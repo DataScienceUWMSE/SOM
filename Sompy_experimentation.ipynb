{
 "cells": [
  {
   "cell_type": "code",
   "execution_count": 19,
   "metadata": {},
   "outputs": [],
   "source": [
    "import logging\n",
    "import ipywidgets as widgets\n",
    "import numpy as np\n",
    "import pandas as pd\n",
    "import matplotlib.pyplot as plt\n",
    "import matplotlib as mpl\n",
    "import sompy\n",
    "from sompy.decorators import timeit\n",
    "from sompy.sompy import SOMFactory\n",
    "logging.getLogger().setLevel(logging.WARNING)\n",
    "import itertools\n",
    "import functools\n",
    "import datetime as dt"
   ]
  },
  {
   "cell_type": "code",
   "execution_count": 20,
   "metadata": {},
   "outputs": [],
   "source": [
    "from tfprop_sompy.tfprop_vis import render_posmap_to_axes, kmeans_clust, ViewTFP"
   ]
  },
  {
   "cell_type": "code",
   "execution_count": 21,
   "metadata": {},
   "outputs": [],
   "source": [
    "from IPython.display import display"
   ]
  },
  {
   "cell_type": "code",
   "execution_count": 22,
   "metadata": {},
   "outputs": [],
   "source": [
    "#logging.getLogger().setLevel(logging.WARNING)"
   ]
  },
  {
   "cell_type": "code",
   "execution_count": 23,
   "metadata": {},
   "outputs": [],
   "source": [
    "#file location\n",
    "fin = 'DummyData.csv'\n",
    "\n",
    "#Map size needs to be a square and larger than the dataset\n",
    "mapsize = (30, 30)\n",
    "n_job = 1\n",
    "\n",
    "#Reads CSV as data frame\n",
    "mats_data_df = pd.read_csv(fin)"
   ]
  },
  {
   "cell_type": "code",
   "execution_count": 24,
   "metadata": {},
   "outputs": [],
   "source": [
    "#Makes data frame of index values\n",
    "mats_name_df = pd.DataFrame(mats_data_df.index)\n",
    "km_cluster = 4"
   ]
  },
  {
   "cell_type": "code",
   "execution_count": 26,
   "metadata": {},
   "outputs": [],
   "source": [
    "som_columns = [\n",
    "# columns with values that are not numerical should be excluded\n",
    "    \"Set_1\",\n",
    "    \"Set_2\",\n",
    "    \"Set_3\",\n",
    "    \"Set_4\",\n",
    "]"
   ]
  },
  {
   "cell_type": "code",
   "execution_count": 27,
   "metadata": {},
   "outputs": [],
   "source": [
    "descr = mats_data_df[som_columns].values"
   ]
  },
  {
   "cell_type": "code",
   "execution_count": 28,
   "metadata": {},
   "outputs": [],
   "source": [
    "# monkeypatch _batchtrain so we can display what's going on\n",
    "def _batchtrain_monkeypatch(self, trainlen, radiusin, radiusfin, njob=1,\n",
    "                shared_memory=False):\n",
    "    from time import time\n",
    "    radius = np.linspace(radiusin, radiusfin, trainlen)\n",
    "\n",
    "    if shared_memory:\n",
    "        data = self._data\n",
    "        data_folder = tempfile.mkdtemp()\n",
    "        data_name = os.path.join(data_folder, 'data')\n",
    "        dump(data, data_name)\n",
    "        data = load(data_name, mmap_mode='r')\n",
    "\n",
    "    else:\n",
    "        data = self._data\n",
    "\n",
    "    bmu = None\n",
    "\n",
    "    # X2 is part of euclidean distance (x-y)^2 = x^2 +y^2 - 2xy that we use\n",
    "    # for each data row in bmu finding.\n",
    "    # Since it is a fixed value we can skip it during bmu finding for each\n",
    "    # data point, but later we need it calculate quantification error\n",
    "    fixed_euclidean_x2 = np.einsum('ij,ij->i', data, data)\n",
    "\n",
    "    logging.info(\" radius_ini: %f , radius_final: %f, trainlen: %d\\n\" %\n",
    "                 (radiusin, radiusfin, trainlen))\n",
    "\n",
    "    for i in range(trainlen):\n",
    "        t1 = time()\n",
    "        neighborhood = self.neighborhood.calculate(\n",
    "            self._distance_matrix, radius[i], self.codebook.nnodes)\n",
    "        bmu = self.find_bmu(data, njb=njob)\n",
    "        self.codebook.matrix = self.update_codebook_voronoi(data, bmu,\n",
    "                                                            neighborhood)\n",
    "\n",
    "        #lbugnon: ojo! aca el bmy[1] a veces da negativo, y despues de eso se rompe...hay algo raro ahi\n",
    "        qerror = (i + 1, round(time() - t1, 3),\n",
    "                  np.mean(np.sqrt(bmu[1] + fixed_euclidean_x2))) #lbugnon: ojo aca me tiró un warning, revisar (commit sinc: 965666d3d4d93bcf48e8cef6ea2c41a018c1cb83 )\n",
    "        #lbugnon\n",
    "        #ipdb.set_trace()\n",
    "        #\n",
    "        logging.info(\n",
    "            \" epoch: %d ---> elapsed time:  %f, quantization error: %f\\n\" %\n",
    "            qerror)\n",
    "        \n",
    "        # this is the reason why we override the function\n",
    "        update_sm_info(*qerror)\n",
    "        \n",
    "        if np.any(np.isnan(qerror)):\n",
    "            logging.info(\"nan quantization error, exit train\\n\")\n",
    "\n",
    "            #sys.exit(\"quantization error=nan, exit train\")\n",
    "\n",
    "    bmu[1] = np.sqrt(bmu[1] + fixed_euclidean_x2)\n",
    "    self._bmu = bmu\n",
    "sompy.sompy.SOM._batchtrain = _batchtrain_monkeypatch"
   ]
  },
  {
   "cell_type": "code",
   "execution_count": 29,
   "metadata": {},
   "outputs": [
    {
     "data": {
      "text/plain": [
       "(560, 4)"
      ]
     },
     "execution_count": 29,
     "metadata": {},
     "output_type": "execute_result"
    }
   ],
   "source": [
    "#Shows size of data\n",
    "descr.shape\n",
    "#som_columns"
   ]
  },
  {
   "cell_type": "code",
   "execution_count": 30,
   "metadata": {},
   "outputs": [],
   "source": [
    "sm = SOMFactory.build(descr, \n",
    "                      mapsize=mapsize, \n",
    "                      normalization='var', \n",
    "                      initialization='pca', \n",
    "                      component_names=som_columns\n",
    "                     )"
   ]
  },
  {
   "cell_type": "code",
   "execution_count": 31,
   "metadata": {
    "scrolled": false
   },
   "outputs": [
    {
     "data": {
      "application/vnd.jupyter.widget-view+json": {
       "model_id": "1c6562f1f8fe432d8513746426c23a70",
       "version_major": 2,
       "version_minor": 0
      },
      "text/plain": [
       "VBox(children=(Output(), Box(children=(VBox(children=(VBox(children=(Text(value='som_codemat_4props_20-02-11.h…"
      ]
     },
     "metadata": {},
     "output_type": "display_data"
    }
   ],
   "source": [
    "#With sample data set, should that Epoch: 1800 bc of no real correlation\n",
    "\n",
    "%matplotlib notebook\n",
    "# I'm pretty sure the sompy library's doing a lot of not-nice things to the global matplotlib state\n",
    "\n",
    "#This is the creation of the Training and save box\n",
    "b = widgets.Button(description=\"Train\")\n",
    "out = widgets.Output(layout={'border': '1px solid black'})\n",
    "hm_output = widgets.Output()\n",
    "\n",
    "# Saves the trained som data for use in SOM_Visualization\n",
    "def save_som_data(sm: sompy.sompy.SOM, name: str):\n",
    "    # This will overwrite the old hd5 file, so be aware\n",
    "    with pd.HDFStore(name, mode=\"w\") as store:\n",
    "        store['sm_codebook_matrix'] = pd.DataFrame(sm.codebook.matrix, columns=som_columns)\n",
    "        store['sm_data'] = mats_data_df.drop(\"Row\", axis='columns')\n",
    "        store['sm_codebook_mapsize'] = pd.Series(mapsize)\n",
    "        # FIXME: This does a direct access of the pandas dataframe internals\n",
    "        # in order to directly write to the file\n",
    "        # For some reason writing an object(\"string\") series to the store\n",
    "        # renders it unreadable\n",
    "        columns_group = store._handle.create_group(store._handle.root, 'sm_codebook_columns')\n",
    "        stored_columns_array = store._handle.create_array(columns_group, \"property_names\", list(som_columns), \"Material property names\")\n",
    "        matfamilies_group = store._handle.create_group(store._handle.root, 'sm_codebook_matfamilies')\n",
    "        stored_matfamilies_array = store._handle.create_array(matfamilies_group, \"material_families\", list(mats_data_df[\"Row\"]), \"Material families\")\n",
    "    with out:\n",
    "        print(f\"Saved to {name}\")\n",
    "\n",
    "#This trains the data\n",
    "def do_training(*args):\n",
    "    out.clear_output()\n",
    "    with out:\n",
    "        sm.train(n_job=n_job, verbose='debug', train_rough_len=0,\n",
    "                 train_finetune_len=0)\n",
    "\n",
    "        topographic_error = sm.calculate_topographic_error()\n",
    "        quantization_error = np.mean(sm._bmu[1])\n",
    "        print(\"Topographic error = {:.5f}; Quantization error = {:.5f};\"\n",
    "              .format(topographic_error, quantization_error))\n",
    "b.on_click(do_training)\n",
    "\n",
    "# Produces text for the widget box\n",
    "epoch_text_widget = widgets.Label(value=\"Epoch: 0\")\n",
    "topo_err_text_widget = widgets.Label(value=\"Topographic error: 0\")\n",
    "quantization_err_text_widget = widgets.Label(value=\"Quantization error: 0\")\n",
    "infobox = widgets.VBox([epoch_text_widget, topo_err_text_widget, quantization_err_text_widget])\n",
    "\n",
    "# Gives file name and saves it\n",
    "today = dt.date.today()\n",
    "outname = widgets.Text(description=\"Output file\", value=f\"som_codemat_{len(som_columns)}props_{today.strftime('%y-%m-%d')}.h5\")\n",
    "savebtn = widgets.Button(description=\"Save\")\n",
    "savebox = widgets.VBox([outname, savebtn], layout={'border': '1px solid black'})\n",
    "\n",
    "savebtn.on_click(lambda *args: save_som_data(sm, outname.value))\n",
    "\n",
    "# Displayes the widgets below\n",
    "graph_display = widgets.Output()\n",
    "with graph_display:\n",
    "    display(hm_output)\n",
    "    \n",
    "# Updates as data gets trained\n",
    "def update_sm_info(epoch, topographic_err, quantization_err):\n",
    "    epoch_text_widget.value = \"Epoch: {}\".format(epoch)\n",
    "    topo_err_text_widget.value = \"Topographic error: {}\".format(topographic_err)\n",
    "    quantization_err_text_widget.value = \"Quantization error: {}\".format(quantization_err)\n",
    "\n",
    "widgets.VBox([graph_display, widgets.Box([widgets.VBox([savebox, b, infobox]), out])])\n",
    "\n",
    "# When training with dummy data is done, epoch: 65\n",
    "# No need to move past this part of the code, switch to SOM_Visualization for trained data"
   ]
  },
  {
   "cell_type": "code",
   "execution_count": 34,
   "metadata": {},
   "outputs": [
    {
     "name": "stderr",
     "output_type": "stream",
     "text": [
      "backend module://ipykernel.pylab.backend_inline version unknown\n"
     ]
    }
   ],
   "source": [
    "%matplotlib inline\n",
    "from tfprop_sompy.tfprop_vis import show_posmap\n",
    "logging.getLogger().setLevel(logging.WARNING)\n",
    "\n",
    "def create_posmap(mysom: sompy.sompy.SOM, num_clusters: int=km_cluster):\n",
    "    cl_labels = kmeans_clust(mysom, n_clusters=num_clusters)\n",
    "\n",
    "    # plot positioning map with clustered groups\n",
    "    show_posmap(mysom, mats_name_df, mats_name_df,\n",
    "                km_cluster, cl_labels,\n",
    "                show_data=False, labels=False)"
   ]
  },
  {
   "cell_type": "code",
   "execution_count": 35,
   "metadata": {},
   "outputs": [
    {
     "name": "stdout",
     "output_type": "stream",
     "text": [
      "Performing K-means clustering to SOM trained data...\n"
     ]
    },
    {
     "name": "stderr",
     "output_type": "stream",
     "text": [
      "C:\\Users\\Felic\\Miniconda3\\lib\\site-packages\\matplotlib\\figure.py:459: UserWarning: matplotlib is currently using a non-GUI backend, so cannot show the figure\n",
      "  \"matplotlib is currently using a non-GUI backend, \"\n"
     ]
    },
    {
     "data": {
      "image/png": "[encoded data removed]",
      "text/plain": [
       "<Figure size 720x720 with 1 Axes>"
      ]
     },
     "metadata": {},
     "output_type": "display_data"
    }
   ],
   "source": [
    "%matplotlib inline\n",
    "create_posmap(sm)"
   ]
  },
  {
   "cell_type": "code",
   "execution_count": null,
   "metadata": {
    "scrolled": true
   },
   "outputs": [
    {
     "data": {
      "application/vnd.jupyter.widget-view+json": {
       "model_id": "de09db0de9c6411db8f5022b067451d9",
       "version_major": 2,
       "version_minor": 0
      },
      "text/plain": [
       "Output()"
      ]
     },
     "metadata": {},
     "output_type": "display_data"
    }
   ],
   "source": [
    "# Creates maps with different cluster numbers\n",
    "o = widgets.Output()\n",
    "with o:\n",
    "    for i in range(2, 20):\n",
    "        create_posmap(sm, num_clusters=i)\n",
    "o"
   ]
  },
  {
   "cell_type": "code",
   "execution_count": 18,
   "metadata": {},
   "outputs": [],
   "source": [
    "%matplotlib inline\n",
    "from tfprop_sompy.tfprop_vis import ViewTFP\n",
    "logging.getLogger().setLevel(logging.WARNING)\n",
    "heatmap_size = (20, 20)\n",
    "heatmap_col_sz = 4\n",
    "gauss_alpha = None\n",
    "\n",
    "viewTFP = ViewTFP(*heatmap_size, '', stdev_colorscale_coeff=1., text_size=14)"
   ]
  },
  {
   "cell_type": "code",
   "execution_count": null,
   "metadata": {},
   "outputs": [],
   "source": [
    "my_out = widgets.Output()\n",
    "cmap = plt.get_cmap('RdYlBu_r')  # set color map\n",
    "cl_labels = kmeans_clust(sm, n_clusters=km_cluster)\n",
    "\n",
    "# No scaling\n",
    "viewTFP.knee_value = 0.0\n",
    "with my_out:\n",
    "    print(\"Linear scaling\")\n",
    "    viewTFP.show(sm, cl_labels, col_sz=heatmap_col_sz,\n",
    "                         which_dim='all', desnormalize=True, col_norm='mean',\n",
    "                         cmap=cmap)\n",
    "my_out"
   ]
  },
  {
   "cell_type": "code",
   "execution_count": null,
   "metadata": {},
   "outputs": [],
   "source": [
    "my_out = widgets.Output()\n",
    "cmap = plt.get_cmap('RdYlBu_r')  # set color map\n",
    "cl_labels = kmeans_clust(sm, n_clusters=km_cluster)\n",
    "\n",
    "# No scaling\n",
    "viewTFP.knee_value = 0.0\n",
    "with my_out:\n",
    "    print(\"Log scaling\")\n",
    "    viewTFP.show(sm, cl_labels, col_sz=heatmap_col_sz,\n",
    "                         which_dim='all', desnormalize=True, col_norm='mean',\n",
    "                         cmap=cmap, normalizer=\"log\")\n",
    "my_out"
   ]
  },
  {
   "cell_type": "code",
   "execution_count": null,
   "metadata": {
    "scrolled": true
   },
   "outputs": [],
   "source": [
    "sm.codebook.matrix.shape"
   ]
  },
  {
   "cell_type": "code",
   "execution_count": null,
   "metadata": {},
   "outputs": [],
   "source": [
    "sm._data.shape"
   ]
  },
  {
   "cell_type": "code",
   "execution_count": null,
   "metadata": {},
   "outputs": [],
   "source": [
    "sm._bmu"
   ]
  }
 ],
 "metadata": {
  "kernelspec": {
   "display_name": "Python 3",
   "language": "python",
   "name": "python3"
  },
  "language_info": {
   "codemirror_mode": {
    "name": "ipython",
    "version": 3
   },
   "file_extension": ".py",
   "mimetype": "text/x-python",
   "name": "python",
   "nbconvert_exporter": "python",
   "pygments_lexer": "ipython3",
   "version": "3.6.4"
  }
 },
 "nbformat": 4,
 "nbformat_minor": 2
}
