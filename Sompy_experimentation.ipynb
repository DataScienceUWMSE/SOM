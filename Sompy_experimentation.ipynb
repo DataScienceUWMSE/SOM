{
 "cells": [
  {
   "cell_type": "markdown",
   "metadata": {},
   "source": [
    "# SOMPY Experimentation\n",
    "\n",
    "## Description\n",
    "\n",
    "This notebook contains code for generating hierarchical data files (`*.h5`) that can be loaded in [`SOM_Visualization.ipynb`](SOM_Visualization.ipynb).\n",
    "\n",
    "## Workflow\n",
    "\n",
    "1. Choose the columns you wish to train on in [the som column selection cell](#another_cell), and run the cell in jupyter to update the variable reference.\n",
    "1. Navigate to [the som training cell](#training_cell).\n",
    "1. Press the \"Train\" button to begin training the SOM. Depending on the size of your dataset, and how many columns you are training on, this may take longer or shorter.\n",
    "1. When the process is complete, optionally give the SOM a uniquely identifying name by entering it in the text box, and then hit the \"Save\" button to write a hierarchical data file to be loaded later."
   ]
  },
  {
   "cell_type": "code",
   "execution_count": 1,
   "metadata": {},
   "outputs": [],
   "source": [
    "import logging\n",
    "import ipywidgets as widgets\n",
    "import numpy as np\n",
    "import pandas as pd\n",
    "import matplotlib.pyplot as plt\n",
    "import matplotlib as mpl\n",
    "import sompy\n",
    "from sompy.decorators import timeit\n",
    "from sompy.sompy import SOMFactory\n",
    "logging.getLogger().setLevel(logging.WARNING)\n",
    "import itertools\n",
    "import functools\n",
    "import datetime as dt\n",
    "#from IPython.display import display"
   ]
  },
  {
   "cell_type": "code",
   "execution_count": 2,
   "metadata": {},
   "outputs": [],
   "source": [
    "# Group specific package\n",
    "from tfprop_sompy.tfprop_vis import render_posmap_to_axes, kmeans_clust, ViewTFP"
   ]
  },
  {
   "cell_type": "code",
   "execution_count": 3,
   "metadata": {},
   "outputs": [],
   "source": [
    "from IPython.display import display"
   ]
  },
  {
   "cell_type": "code",
   "execution_count": 4,
   "metadata": {},
   "outputs": [],
   "source": [
    "logging.getLogger().setLevel(logging.WARNING)"
   ]
  },
  {
   "cell_type": "code",
   "execution_count": 5,
   "metadata": {},
   "outputs": [],
   "source": [
    "# File location and name\n",
    "fin = 'DummyData.csv'\n",
    "\n",
    "# The product of the values in mapsize needs to be a square and larger than the dataset\n",
    "# Warning: the larger the dataset the longer it will take to run\n",
    "mapsize = (30, 30)\n",
    "n_job = 1\n",
    "\n",
    "# Reads CSV as data frame\n",
    "data_df = pd.read_csv(fin)"
   ]
  },
  {
   "cell_type": "code",
   "execution_count": 6,
   "metadata": {},
   "outputs": [],
   "source": [
    "#Makes data frame of index values\n",
    "name_df = pd.DataFrame(data_df.index)\n",
    "km_cluster = 4"
   ]
  },
  {
   "cell_type": "markdown",
   "metadata": {
    "tags": [
     "remove_cell",
     "hide_output"
    ]
   },
   "source": [
    "<a id='another_cell'></a>"
   ]
  },
  {
   "cell_type": "code",
   "execution_count": 7,
   "metadata": {
    "tags": [
     "som_columns"
    ]
   },
   "outputs": [],
   "source": [
    "# Names of columns you want to train on\n",
    "# Columns with values that are not numerical should be excluded\n",
    "som_columns = [\n",
    "    \"Set_1\",\n",
    "    \"Set_2\",\n",
    "    \"Set_3\",\n",
    "    \"Set_4\",\n",
    "]\n"
   ]
  },
  {
   "cell_type": "code",
   "execution_count": 8,
   "metadata": {},
   "outputs": [
    {
     "data": {
      "text/plain": [
       "(560, 4)"
      ]
     },
     "execution_count": 8,
     "metadata": {},
     "output_type": "execute_result"
    }
   ],
   "source": [
    "# All the data values for indicated som_columns\n",
    "descr = data_df[som_columns].values\n",
    "\n",
    "# Shows size of data\n",
    "# Sample should be (560,4)\n",
    "descr.shape"
   ]
  },
  {
   "cell_type": "code",
   "execution_count": 9,
   "metadata": {},
   "outputs": [],
   "source": [
    "# Builds a SOM model\n",
    "sm = SOMFactory.build(descr, \n",
    "                      mapsize=mapsize, \n",
    "                      normalization='var', \n",
    "                      initialization='pca', \n",
    "                      component_names=som_columns\n",
    "                     )"
   ]
  },
  {
   "cell_type": "code",
   "execution_count": 10,
   "metadata": {},
   "outputs": [],
   "source": [
    "# Not done commenting this cell\n",
    "# monkeypatch _batchtrain so we can display what's going on\n",
    "def _batchtrain_monkeypatch(self, trainlen, radiusin, radiusfin, njob=1,\n",
    "                shared_memory=False):\n",
    "    from time import time\n",
    "    radius = np.linspace(radiusin, radiusfin, trainlen)\n",
    "\n",
    "    if shared_memory:\n",
    "        data = self._data\n",
    "        data_folder = tempfile.mkdtemp()\n",
    "        data_name = os.path.join(data_folder, 'data')\n",
    "        dump(data, data_name)\n",
    "        data = load(data_name, mmap_mode='r')\n",
    "\n",
    "    else:\n",
    "        data = self._data\n",
    "\n",
    "    bmu = None\n",
    "\n",
    "    # X2 is part of euclidean distance (x-y)^2 = x^2 +y^2 - 2xy that we use\n",
    "    # for each data row in bmu finding.\n",
    "    # Since it is a fixed value we can skip it during bmu finding for each\n",
    "    # data point, but later we need it calculate quantification error\n",
    "    fixed_euclidean_x2 = np.einsum('ij,ij->i', data, data)\n",
    "\n",
    "    logging.info(\" radius_ini: %f , radius_final: %f, trainlen: %d\\n\" %\n",
    "                 (radiusin, radiusfin, trainlen))\n",
    "\n",
    "    for i in range(trainlen):\n",
    "        t1 = time()\n",
    "        neighborhood = self.neighborhood.calculate(\n",
    "            self._distance_matrix, radius[i], self.codebook.nnodes)\n",
    "        bmu = self.find_bmu(data, njb=njob)\n",
    "        self.codebook.matrix = self.update_codebook_voronoi(data, bmu,\n",
    "                                                            neighborhood)\n",
    "        qerror = (i + 1, round(time() - t1, 3),\n",
    "                  np.mean(np.sqrt(bmu[1] + fixed_euclidean_x2)))\n",
    "        logging.info(\n",
    "            \" epoch: %d ---> elapsed time:  %f, quantization error: %f\\n\" %\n",
    "            qerror)\n",
    "        \n",
    "        # this is the reason why we override the function\n",
    "        update_sm_info(*qerror)\n",
    "        \n",
    "        if np.any(np.isnan(qerror)):\n",
    "            logging.info(\"nan quantization error, exit train\\n\")\n",
    "\n",
    "    bmu[1] = np.sqrt(bmu[1] + fixed_euclidean_x2)\n",
    "    self._bmu = bmu\n",
    "    \n",
    "sompy.sompy.SOM._batchtrain = _batchtrain_monkeypatch"
   ]
  },
  {
   "cell_type": "markdown",
   "metadata": {},
   "source": [
    "\n",
    "<a id='training_cell'></a>"
   ]
  },
  {
   "cell_type": "code",
   "execution_count": 11,
   "metadata": {
    "scrolled": false
   },
   "outputs": [
    {
     "data": {
      "application/vnd.jupyter.widget-view+json": {
       "model_id": "18d63899de954b1a9cf70436ae2763c3",
       "version_major": 2,
       "version_minor": 0
      },
      "text/plain": [
       "VBox(children=(Output(), Box(children=(VBox(children=(VBox(children=(Text(value='som_codemat_4props_20-02-11.h…"
      ]
     },
     "metadata": {},
     "output_type": "display_data"
    },
    {
     "name": "stderr",
     "output_type": "stream",
     "text": [
      "NumExpr defaulting to 4 threads.\n"
     ]
    }
   ],
   "source": [
    "%matplotlib notebook\n",
    "\n",
    "# Creates the Training and save box\n",
    "b = widgets.Button(description=\"Train\")\n",
    "out = widgets.Output(layout={'border': '1px solid black'})\n",
    "hm_output = widgets.Output()\n",
    "\n",
    "# Saves the trained som data for use in SOM_Visualization\n",
    "def save_som_data(sm: sompy.sompy.SOM, name: str):\n",
    "    # This will overwrite the old hd5 file, so be aware\n",
    "    with pd.HDFStore(name, mode=\"w\") as store:\n",
    "        store['sm_codebook_matrix'] = pd.DataFrame(sm.codebook.matrix, columns=som_columns)\n",
    "        store['sm_data'] = data_df.drop(\"Row\", axis='columns')\n",
    "        store['sm_codebook_mapsize'] = pd.Series(mapsize)\n",
    "        columns_group = store._handle.create_group(store._handle.root, 'sm_codebook_columns')\n",
    "        stored_columns_array = store._handle.create_array(columns_group, \"property_names\", list(som_columns), \"Material property names\")\n",
    "        matfamilies_group = store._handle.create_group(store._handle.root, 'sm_codebook_matfamilies')\n",
    "        stored_matfamilies_array = store._handle.create_array(matfamilies_group, \"material_families\", list(data_df[\"Row\"]), \"Material families\")\n",
    "    with out:\n",
    "        print(f\"Saved to {name}\")\n",
    "\n",
    "# Trains the data\n",
    "def do_training(*args):\n",
    "    out.clear_output()\n",
    "    with out:\n",
    "        sm.train(n_job=n_job, verbose='debug', train_rough_len=0,\n",
    "                 train_finetune_len=0)\n",
    "\n",
    "        topographic_error = sm.calculate_topographic_error()\n",
    "        quantization_error = np.mean(sm._bmu[1])\n",
    "        print(\"Topographic error = {:.5f}; Quantization error = {:.5f};\"\n",
    "              .format(topographic_error, quantization_error))\n",
    "b.on_click(do_training)\n",
    "\n",
    "# Produces text for the widget box\n",
    "epoch_text_widget = widgets.Label(value=\"Epoch: 0\")\n",
    "topo_err_text_widget = widgets.Label(value=\"Topographic error: 0\")\n",
    "quantization_err_text_widget = widgets.Label(value=\"Quantization error: 0\")\n",
    "warning_txt = widgets.Label(value=\"Clicking save will overwrite the old hd5 file, so be aware\")\n",
    "infobox = widgets.VBox([warning_txt, epoch_text_widget, topo_err_text_widget, quantization_err_text_widget])\n",
    "\n",
    "# Gives file name and saves it\n",
    "today = dt.date.today()\n",
    "outname = widgets.Text(description=\"Output file\", value=f\"som_codemat_{len(som_columns)}props_{today.strftime('%y-%m-%d')}.h5\")\n",
    "savebtn = widgets.Button(description=\"Save\")\n",
    "savebox = widgets.VBox([outname, savebtn], layout={'border': '1px solid black'})\n",
    "\n",
    "savebtn.on_click(lambda *args: save_som_data(sm, outname.value))\n",
    "\n",
    "# Displays the widgets below\n",
    "graph_display = widgets.Output()\n",
    "with graph_display:\n",
    "    display(hm_output)\n",
    "    \n",
    "# Updates as data gets trained\n",
    "def update_sm_info(epoch, topographic_err, quantization_err):\n",
    "    epoch_text_widget.value = \"Epoch: {}\".format(epoch)\n",
    "    topo_err_text_widget.value = \"Topographic error: {}\".format(topographic_err)\n",
    "    quantization_err_text_widget.value = \"Quantization error: {}\".format(quantization_err)\n",
    "    \n",
    "widgets.VBox([graph_display, widgets.Box([widgets.VBox([savebox, b, infobox]), out])])\n",
    "\n",
    "# When training with dummy data is done, epoch: 65\n",
    "# Switch to SOM_Visualization for visualization of trained data"
   ]
  },
  {
   "cell_type": "code",
   "execution_count": null,
   "metadata": {},
   "outputs": [],
   "source": []
  }
 ],
 "metadata": {
  "kernelspec": {
   "display_name": "Python 3",
   "language": "python",
   "name": "python3"
  },
  "language_info": {
   "codemirror_mode": {
    "name": "ipython",
    "version": 3
   },
   "file_extension": ".py",
   "mimetype": "text/x-python",
   "name": "python",
   "nbconvert_exporter": "python",
   "pygments_lexer": "ipython3",
   "version": "3.6.4"
  }
 },
 "nbformat": 4,
 "nbformat_minor": 2
}
